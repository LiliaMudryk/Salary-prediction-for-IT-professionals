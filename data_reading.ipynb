{
 "cells": [
  {
   "cell_type": "markdown",
   "metadata": {},
   "source": [
    "# Import libraries"
   ]
  },
  {
   "cell_type": "code",
   "execution_count": 12,
   "metadata": {},
   "outputs": [],
   "source": [
    "import pandas as pd\n",
    "import os"
   ]
  },
  {
   "cell_type": "markdown",
   "metadata": {},
   "source": [
    "# Functions"
   ]
  },
  {
   "cell_type": "code",
   "execution_count": 13,
   "metadata": {},
   "outputs": [],
   "source": [
    "def get_new_columns(df1,df2,mapping):\n",
    "    \"\"\"\n",
    "    Returns new columns in df 1 that are not present in df2\n",
    "    \"\"\"\n",
    "    new_columns = []\n",
    "    for column in df1.columns:\n",
    "        if column not in df2.columns and (column not in mapping.keys()):\n",
    "            new_columns.append(column)\n",
    "    return new_columns\n",
    "\n",
    "def get_absent_columns(df1,df2,mapping):\n",
    "    \"\"\"\n",
    "    Returns absent columns in df 1 that are present in df2\n",
    "    \"\"\"\n",
    "    new_columns = []\n",
    "    for column in df1.columns:\n",
    "        if column not in df2.columns and (column not in mapping.values()):\n",
    "            new_columns.append(column)\n",
    "    return new_columns"
   ]
  },
  {
   "cell_type": "markdown",
   "metadata": {},
   "source": [
    "# Read original data"
   ]
  },
  {
   "cell_type": "code",
   "execution_count": 14,
   "metadata": {},
   "outputs": [
    {
     "data": {
      "text/plain": [
       "['2019_dec_mini.csv',\n",
       " '2019_dec_raw.csv',\n",
       " '2019_june_final.csv',\n",
       " '2019_june_mini.csv',\n",
       " '2019_june_raw.csv',\n",
       " '2020_dec_raw.csv',\n",
       " '2020_june_mini.csv',\n",
       " '2021_dec_raw.csv',\n",
       " '2021_june_raw.csv',\n",
       " '2022_dec_raw.csv',\n",
       " '2022_june_dev.csv',\n",
       " '2022_june_other.csv',\n",
       " '2022_june_qa.csv',\n",
       " '2023_dec_raw.csv',\n",
       " '2023_june_raw.csv']"
      ]
     },
     "execution_count": 14,
     "metadata": {},
     "output_type": "execute_result"
    }
   ],
   "source": [
    "csv_master_name = 'csv-master'\n",
    "csv_master_folders = os.listdir(csv_master_name)\n",
    "salary_folder_path = os.path.join(csv_master_name,'salaries')\n",
    "salary_folder_files = os.listdir(salary_folder_path)\n",
    "salary_folder_files"
   ]
  },
  {
   "cell_type": "code",
   "execution_count": 15,
   "metadata": {},
   "outputs": [],
   "source": [
    "def read_files(salary_file):\n",
    "    'Reads a csv file based on its file name'\n",
    "    salary_file_path = os.path.join(salary_folder_path,salary_file)\n",
    "    try:\n",
    "        return pd.read_csv(salary_file_path)\n",
    "    except:\n",
    "        return pd.read_csv(salary_file_path,sep=';')"
   ]
  },
  {
   "cell_type": "markdown",
   "metadata": {},
   "source": [
    "# Dec 2023 "
   ]
  },
  {
   "cell_type": "code",
   "execution_count": 16,
   "metadata": {},
   "outputs": [
    {
     "data": {
      "text/html": [
       "<div>\n",
       "<style scoped>\n",
       "    .dataframe tbody tr th:only-of-type {\n",
       "        vertical-align: middle;\n",
       "    }\n",
       "\n",
       "    .dataframe tbody tr th {\n",
       "        vertical-align: top;\n",
       "    }\n",
       "\n",
       "    .dataframe thead th {\n",
       "        text-align: right;\n",
       "    }\n",
       "</style>\n",
       "<table border=\"1\" class=\"dataframe\">\n",
       "  <thead>\n",
       "    <tr style=\"text-align: right;\">\n",
       "      <th></th>\n",
       "      <th>Timestamp</th>\n",
       "      <th>Ваша основна зайнятість в ІТ зараз...</th>\n",
       "      <th>Зарплата / дохід у $$$ за місяць, лише ставка \\nЧИСТИМИ - після сплати податків</th>\n",
       "      <th>Оберіть вашу основну посаду</th>\n",
       "      <th>Ваш тайтл на цій посаді</th>\n",
       "      <th>Вкажіть вашу спеціалізацію - Game Design</th>\n",
       "      <th>Вкажіть вашу спеціалізацію - Sound</th>\n",
       "      <th>Вкажіть вашу спеціалізацію - QA</th>\n",
       "      <th>Оберіть вашу посаду - Design</th>\n",
       "      <th>GameDev розробники - оберіть вашу спеціалізацію</th>\n",
       "      <th>...</th>\n",
       "      <th>В якій сфері проєкт, в якому ви зараз працюєте?</th>\n",
       "      <th>Основний напрям роботи компанії, в якій працюєте</th>\n",
       "      <th>Кількість спеціалістів у вашій компанії (в Україні/з України)</th>\n",
       "      <th>Загальний стаж роботи за нинішньою ІТ-спеціальністю</th>\n",
       "      <th>Яка у вас освіта?</th>\n",
       "      <th>Знання англійської мови</th>\n",
       "      <th>Де ви зараз живете?</th>\n",
       "      <th>В якій області ви зараз живете?</th>\n",
       "      <th>Ваша стать</th>\n",
       "      <th>Ваш вік</th>\n",
       "    </tr>\n",
       "  </thead>\n",
       "  <tbody>\n",
       "    <tr>\n",
       "      <th>0</th>\n",
       "      <td>12/4/2023 9:07:12</td>\n",
       "      <td>Працюю full-time в ІТ-компанії чи ІТ-відділі</td>\n",
       "      <td>4500.0</td>\n",
       "      <td>Software Engineer / Programmer</td>\n",
       "      <td>Senior</td>\n",
       "      <td>NaN</td>\n",
       "      <td>NaN</td>\n",
       "      <td>NaN</td>\n",
       "      <td>NaN</td>\n",
       "      <td>NaN</td>\n",
       "      <td>...</td>\n",
       "      <td>E-commerce</td>\n",
       "      <td>Аутстафінгова</td>\n",
       "      <td>до 1000</td>\n",
       "      <td>6.0</td>\n",
       "      <td>Вища (бакалавр, спеціаліст, магістр) - одна аб...</td>\n",
       "      <td>Upper-Intermediate</td>\n",
       "      <td>В Україні</td>\n",
       "      <td>Суми чи область</td>\n",
       "      <td>Чоловік</td>\n",
       "      <td>28</td>\n",
       "    </tr>\n",
       "    <tr>\n",
       "      <th>1</th>\n",
       "      <td>12/4/2023 9:07:50</td>\n",
       "      <td>Працюю full-time в ІТ-компанії чи ІТ-відділі</td>\n",
       "      <td>7000.0</td>\n",
       "      <td>Data Science, Machine Learning, AI, Big Data, ...</td>\n",
       "      <td>Tech Lead</td>\n",
       "      <td>NaN</td>\n",
       "      <td>NaN</td>\n",
       "      <td>NaN</td>\n",
       "      <td>NaN</td>\n",
       "      <td>NaN</td>\n",
       "      <td>...</td>\n",
       "      <td>Big Data, Data Science, Gambling</td>\n",
       "      <td>Продуктова</td>\n",
       "      <td>до 1000</td>\n",
       "      <td>5.0</td>\n",
       "      <td>Вища (бакалавр, спеціаліст, магістр) - одна аб...</td>\n",
       "      <td>Upper-Intermediate</td>\n",
       "      <td>В Україні</td>\n",
       "      <td>Київ чи область</td>\n",
       "      <td>Чоловік</td>\n",
       "      <td>36</td>\n",
       "    </tr>\n",
       "    <tr>\n",
       "      <th>2</th>\n",
       "      <td>12/4/2023 9:08:11</td>\n",
       "      <td>Працюю full-time в ІТ-компанії чи ІТ-відділі</td>\n",
       "      <td>1750.0</td>\n",
       "      <td>Software Engineer / Programmer</td>\n",
       "      <td>Junior</td>\n",
       "      <td>NaN</td>\n",
       "      <td>NaN</td>\n",
       "      <td>NaN</td>\n",
       "      <td>NaN</td>\n",
       "      <td>NaN</td>\n",
       "      <td>...</td>\n",
       "      <td>Insurance</td>\n",
       "      <td>Аутсорсингова</td>\n",
       "      <td>до 1000</td>\n",
       "      <td>2.0</td>\n",
       "      <td>Вища (бакалавр, спеціаліст, магістр) - одна аб...</td>\n",
       "      <td>Upper-Intermediate</td>\n",
       "      <td>В Україні</td>\n",
       "      <td>Харків чи область</td>\n",
       "      <td>Чоловік</td>\n",
       "      <td>34</td>\n",
       "    </tr>\n",
       "    <tr>\n",
       "      <th>3</th>\n",
       "      <td>12/4/2023 9:08:42</td>\n",
       "      <td>Працюю full-time в ІТ-компанії чи ІТ-відділі</td>\n",
       "      <td>3560.0</td>\n",
       "      <td>QA / AQA Engineer (Junior, Middle, Senior, Tea...</td>\n",
       "      <td>Senior</td>\n",
       "      <td>NaN</td>\n",
       "      <td>NaN</td>\n",
       "      <td>Manual QA</td>\n",
       "      <td>NaN</td>\n",
       "      <td>NaN</td>\n",
       "      <td>...</td>\n",
       "      <td>E-commerce, Legal, Public services / Government</td>\n",
       "      <td>Продуктова</td>\n",
       "      <td>до 1000</td>\n",
       "      <td>6.0</td>\n",
       "      <td>Вища (бакалавр, спеціаліст, магістр) - одна аб...</td>\n",
       "      <td>Upper-Intermediate</td>\n",
       "      <td>В Україні</td>\n",
       "      <td>Львів чи область</td>\n",
       "      <td>Чоловік</td>\n",
       "      <td>37</td>\n",
       "    </tr>\n",
       "    <tr>\n",
       "      <th>4</th>\n",
       "      <td>12/4/2023 9:09:23</td>\n",
       "      <td>Працюю full-time в ІТ-компанії чи ІТ-відділі</td>\n",
       "      <td>2750.0</td>\n",
       "      <td>Software Engineer / Programmer</td>\n",
       "      <td>Senior</td>\n",
       "      <td>NaN</td>\n",
       "      <td>NaN</td>\n",
       "      <td>NaN</td>\n",
       "      <td>NaN</td>\n",
       "      <td>NaN</td>\n",
       "      <td>...</td>\n",
       "      <td>Retail</td>\n",
       "      <td>Продуктова</td>\n",
       "      <td>до 1000</td>\n",
       "      <td>3.0</td>\n",
       "      <td>Вища (бакалавр, спеціаліст, магістр) - одна аб...</td>\n",
       "      <td>Upper-Intermediate</td>\n",
       "      <td>В Україні</td>\n",
       "      <td>Київ чи область</td>\n",
       "      <td>Чоловік</td>\n",
       "      <td>34</td>\n",
       "    </tr>\n",
       "  </tbody>\n",
       "</table>\n",
       "<p>5 rows × 31 columns</p>\n",
       "</div>"
      ],
      "text/plain": [
       "           Timestamp         Ваша основна зайнятість в ІТ зараз...  \\\n",
       "0  12/4/2023 9:07:12  Працюю full-time в ІТ-компанії чи ІТ-відділі   \n",
       "1  12/4/2023 9:07:50  Працюю full-time в ІТ-компанії чи ІТ-відділі   \n",
       "2  12/4/2023 9:08:11  Працюю full-time в ІТ-компанії чи ІТ-відділі   \n",
       "3  12/4/2023 9:08:42  Працюю full-time в ІТ-компанії чи ІТ-відділі   \n",
       "4  12/4/2023 9:09:23  Працюю full-time в ІТ-компанії чи ІТ-відділі   \n",
       "\n",
       "   Зарплата / дохід у $$$ за місяць, лише ставка \\nЧИСТИМИ - після сплати податків  \\\n",
       "0                                             4500.0                                 \n",
       "1                                             7000.0                                 \n",
       "2                                             1750.0                                 \n",
       "3                                             3560.0                                 \n",
       "4                                             2750.0                                 \n",
       "\n",
       "                         Оберіть вашу основну посаду Ваш тайтл на цій посаді  \\\n",
       "0                     Software Engineer / Programmer                  Senior   \n",
       "1  Data Science, Machine Learning, AI, Big Data, ...               Tech Lead   \n",
       "2                     Software Engineer / Programmer                  Junior   \n",
       "3  QA / AQA Engineer (Junior, Middle, Senior, Tea...                  Senior   \n",
       "4                     Software Engineer / Programmer                  Senior   \n",
       "\n",
       "  Вкажіть вашу спеціалізацію - Game Design Вкажіть вашу спеціалізацію - Sound  \\\n",
       "0                                      NaN                                NaN   \n",
       "1                                      NaN                                NaN   \n",
       "2                                      NaN                                NaN   \n",
       "3                                      NaN                                NaN   \n",
       "4                                      NaN                                NaN   \n",
       "\n",
       "  Вкажіть вашу спеціалізацію - QA Оберіть вашу посаду - Design  \\\n",
       "0                             NaN                          NaN   \n",
       "1                             NaN                          NaN   \n",
       "2                             NaN                          NaN   \n",
       "3                       Manual QA                          NaN   \n",
       "4                             NaN                          NaN   \n",
       "\n",
       "  GameDev розробники - оберіть вашу спеціалізацію  ...  \\\n",
       "0                                             NaN  ...   \n",
       "1                                             NaN  ...   \n",
       "2                                             NaN  ...   \n",
       "3                                             NaN  ...   \n",
       "4                                             NaN  ...   \n",
       "\n",
       "   В якій сфері проєкт, в якому ви зараз працюєте?  \\\n",
       "0                                       E-commerce   \n",
       "1                 Big Data, Data Science, Gambling   \n",
       "2                                        Insurance   \n",
       "3  E-commerce, Legal, Public services / Government   \n",
       "4                                           Retail   \n",
       "\n",
       "  Основний напрям роботи компанії, в якій працюєте  \\\n",
       "0                                    Аутстафінгова   \n",
       "1                                       Продуктова   \n",
       "2                                    Аутсорсингова   \n",
       "3                                       Продуктова   \n",
       "4                                       Продуктова   \n",
       "\n",
       "  Кількість спеціалістів у вашій компанії (в Україні/з України)  \\\n",
       "0                                            до 1000              \n",
       "1                                            до 1000              \n",
       "2                                            до 1000              \n",
       "3                                            до 1000              \n",
       "4                                            до 1000              \n",
       "\n",
       "  Загальний стаж роботи за нинішньою ІТ-спеціальністю  \\\n",
       "0                                                6.0    \n",
       "1                                                5.0    \n",
       "2                                                2.0    \n",
       "3                                                6.0    \n",
       "4                                                3.0    \n",
       "\n",
       "                                   Яка у вас освіта? Знання англійської мови  \\\n",
       "0  Вища (бакалавр, спеціаліст, магістр) - одна аб...      Upper-Intermediate   \n",
       "1  Вища (бакалавр, спеціаліст, магістр) - одна аб...      Upper-Intermediate   \n",
       "2  Вища (бакалавр, спеціаліст, магістр) - одна аб...      Upper-Intermediate   \n",
       "3  Вища (бакалавр, спеціаліст, магістр) - одна аб...      Upper-Intermediate   \n",
       "4  Вища (бакалавр, спеціаліст, магістр) - одна аб...      Upper-Intermediate   \n",
       "\n",
       "  Де ви зараз живете?  В якій області ви зараз живете? Ваша стать Ваш вік  \n",
       "0            В Україні                 Суми чи область    Чоловік      28  \n",
       "1            В Україні                 Київ чи область    Чоловік      36  \n",
       "2            В Україні               Харків чи область    Чоловік      34  \n",
       "3            В Україні                Львів чи область    Чоловік      37  \n",
       "4            В Україні                 Київ чи область    Чоловік      34  \n",
       "\n",
       "[5 rows x 31 columns]"
      ]
     },
     "execution_count": 16,
     "metadata": {},
     "output_type": "execute_result"
    }
   ],
   "source": [
    "dec_2023_df = read_files('2023_dec_raw.csv')\n",
    "dec_2023_df.head()"
   ]
  },
  {
   "cell_type": "markdown",
   "metadata": {},
   "source": [
    "Map columns to one standart"
   ]
  },
  {
   "cell_type": "code",
   "execution_count": 17,
   "metadata": {},
   "outputs": [],
   "source": [
    "columns_map_2023 = {\n",
    "    'Зарплата / дохід у $$$ за місяць, лише ставка \\nЧИСТИМИ - після сплати податків': 'Зарплата / дохід у $$$ за місяць, лише ставка після сплати податків',\n",
    "    'Ваша посада - DevOps': 'Ваша посада DevOps, SRE',\n",
    "    'Ваша спеціалізація - Support': 'Ваша спеціалізація Support',\n",
    "    'Ваша посада - Top management':'Ваша посада CTO, Director',\n",
    "    'Ваша посада - DS':'Ваша посада Data Science',\n",
    "    'Ваша посада - Analyst': 'Ваша посада Analyst',\n",
    "    'GameDev розробники - оберіть вашу спеціалізацію': 'GameDev розробники - оберіть вашу спеціалізацію',\n",
    "    'Оберіть вашу посаду - Design': 'Оберіть вашу посаду Designer / Artist',\n",
    "    'Вкажіть вашу спеціалізацію - Sound': 'Вкажіть вашу спеціалізацію Sound',\n",
    "    'Вкажіть вашу спеціалізацію - Game Design': 'Вкажіть вашу спеціалізацію Game Design',\n",
    "    'GameDev розробники - оберіть вашу спеціалізацію':'Якщо ви працюєте в GameDev,  оберіть вашу спеціалізацію',\n",
    "    'Оберіть вашу основну посаду': 'Спеціалізація',\n",
    "    'Ваша посада - PM': 'Ваша посада Management',\n",
    "    'Оберіть вашу посаду - HR': 'Оберіть вашу посаду HR',\n",
    "    'Ваша посада - Marketing' : 'Ваша посада Marketing'\n",
    "    \n",
    "\n",
    "}"
   ]
  },
  {
   "cell_type": "code",
   "execution_count": 18,
   "metadata": {},
   "outputs": [],
   "source": [
    "dec_2023_df.rename(columns=columns_map_2023,inplace=True)"
   ]
  },
  {
   "cell_type": "markdown",
   "metadata": {},
   "source": [
    "----"
   ]
  },
  {
   "cell_type": "markdown",
   "metadata": {},
   "source": [
    "# June 2023 "
   ]
  },
  {
   "cell_type": "code",
   "execution_count": 19,
   "metadata": {},
   "outputs": [
    {
     "data": {
      "text/html": [
       "<div>\n",
       "<style scoped>\n",
       "    .dataframe tbody tr th:only-of-type {\n",
       "        vertical-align: middle;\n",
       "    }\n",
       "\n",
       "    .dataframe tbody tr th {\n",
       "        vertical-align: top;\n",
       "    }\n",
       "\n",
       "    .dataframe thead th {\n",
       "        text-align: right;\n",
       "    }\n",
       "</style>\n",
       "<table border=\"1\" class=\"dataframe\">\n",
       "  <thead>\n",
       "    <tr style=\"text-align: right;\">\n",
       "      <th></th>\n",
       "      <th>Timestamp</th>\n",
       "      <th>Ваша основна зайнятість в ІТ зараз...</th>\n",
       "      <th>Зарплата / дохід у $$$ за місяць, лише ставка після сплати податків</th>\n",
       "      <th>Спеціалізація</th>\n",
       "      <th>Ваш тайтл на цій посаді</th>\n",
       "      <th>Вкажіть вашу спеціалізацію Game Design</th>\n",
       "      <th>Вкажіть вашу спеціалізацію Sound</th>\n",
       "      <th>Вкажіть вашу спеціалізацію - QA</th>\n",
       "      <th>Оберіть вашу посаду Designer / Artist</th>\n",
       "      <th>Якщо ви працюєте в GameDev,  оберіть вашу спеціалізацію</th>\n",
       "      <th>...</th>\n",
       "      <th>В якій сфері проєкт, в якому ви зараз працюєте?</th>\n",
       "      <th>Основний напрям роботи компанії, в якій працюєте</th>\n",
       "      <th>Кількість спеціалістів у вашій компанії (в Україні/з України)</th>\n",
       "      <th>Загальний стаж роботи за нинішньою ІТ-спеціальністю</th>\n",
       "      <th>Яка у вас освіта?</th>\n",
       "      <th>Знання англійської мови</th>\n",
       "      <th>Де ви зараз живете?</th>\n",
       "      <th>В якій області ви зараз живете?</th>\n",
       "      <th>Ваша стать</th>\n",
       "      <th>Ваш вік</th>\n",
       "    </tr>\n",
       "  </thead>\n",
       "  <tbody>\n",
       "    <tr>\n",
       "      <th>0</th>\n",
       "      <td>5.26.2023 13:40:35</td>\n",
       "      <td>Працюю full-time в ІТ-компанії чи ІТ-відділі</td>\n",
       "      <td>2300</td>\n",
       "      <td>Marketing, PR, SEO, Copywriter</td>\n",
       "      <td>Senior</td>\n",
       "      <td>NaN</td>\n",
       "      <td>NaN</td>\n",
       "      <td>NaN</td>\n",
       "      <td>NaN</td>\n",
       "      <td>NaN</td>\n",
       "      <td>...</td>\n",
       "      <td>Інша</td>\n",
       "      <td>Аутсорсингова</td>\n",
       "      <td>до 200</td>\n",
       "      <td>4</td>\n",
       "      <td>Вища (бакалавр, спеціаліст, магістр) - одна аб...</td>\n",
       "      <td>Advanced</td>\n",
       "      <td>В Україні</td>\n",
       "      <td>Київ чи область</td>\n",
       "      <td>Чоловік</td>\n",
       "      <td>28</td>\n",
       "    </tr>\n",
       "    <tr>\n",
       "      <th>1</th>\n",
       "      <td>5.26.2023 13:40:36</td>\n",
       "      <td>Працюю full-time в ІТ-компанії чи ІТ-відділі</td>\n",
       "      <td>3450</td>\n",
       "      <td>Software Engineer</td>\n",
       "      <td>Middle</td>\n",
       "      <td>NaN</td>\n",
       "      <td>NaN</td>\n",
       "      <td>NaN</td>\n",
       "      <td>NaN</td>\n",
       "      <td>NaN</td>\n",
       "      <td>...</td>\n",
       "      <td>Medtech / Healthcare</td>\n",
       "      <td>Аутсорсингова</td>\n",
       "      <td>понад 1000</td>\n",
       "      <td>4</td>\n",
       "      <td>Вища (бакалавр, спеціаліст, магістр) - одна аб...</td>\n",
       "      <td>Pre-Intermediate</td>\n",
       "      <td>В Україні</td>\n",
       "      <td>Київ чи область</td>\n",
       "      <td>Чоловік</td>\n",
       "      <td>28</td>\n",
       "    </tr>\n",
       "    <tr>\n",
       "      <th>2</th>\n",
       "      <td>5.26.2023 13:41:02</td>\n",
       "      <td>Працюю full-time в ІТ-компанії чи ІТ-відділі</td>\n",
       "      <td>900</td>\n",
       "      <td>Marketing, PR, SEO, Copywriter</td>\n",
       "      <td>Team Lead</td>\n",
       "      <td>NaN</td>\n",
       "      <td>NaN</td>\n",
       "      <td>NaN</td>\n",
       "      <td>NaN</td>\n",
       "      <td>NaN</td>\n",
       "      <td>...</td>\n",
       "      <td>E-commerce</td>\n",
       "      <td>Продуктова</td>\n",
       "      <td>до 200</td>\n",
       "      <td>5</td>\n",
       "      <td>Вища (бакалавр, спеціаліст, магістр) - одна аб...</td>\n",
       "      <td>Upper-Intermediate</td>\n",
       "      <td>В Україні</td>\n",
       "      <td>Миколаїв чи область</td>\n",
       "      <td>Жінка</td>\n",
       "      <td>27</td>\n",
       "    </tr>\n",
       "    <tr>\n",
       "      <th>3</th>\n",
       "      <td>5.26.2023 13:41:19</td>\n",
       "      <td>Працюю full-time в ІТ-компанії чи ІТ-відділі</td>\n",
       "      <td>4000</td>\n",
       "      <td>Software Engineer</td>\n",
       "      <td>Middle</td>\n",
       "      <td>NaN</td>\n",
       "      <td>NaN</td>\n",
       "      <td>NaN</td>\n",
       "      <td>NaN</td>\n",
       "      <td>NaN</td>\n",
       "      <td>...</td>\n",
       "      <td>E-commerce</td>\n",
       "      <td>Аутстафінгова</td>\n",
       "      <td>понад 1000</td>\n",
       "      <td>5</td>\n",
       "      <td>Вища (бакалавр, спеціаліст, магістр) - одна аб...</td>\n",
       "      <td>Upper-Intermediate</td>\n",
       "      <td>В Україні</td>\n",
       "      <td>Суми чи область</td>\n",
       "      <td>Чоловік</td>\n",
       "      <td>27</td>\n",
       "    </tr>\n",
       "    <tr>\n",
       "      <th>4</th>\n",
       "      <td>5.26.2023 13:41:34</td>\n",
       "      <td>Працюю full-time в ІТ-компанії чи ІТ-відділі</td>\n",
       "      <td>2700</td>\n",
       "      <td>Analyst (Business, Data, System etc)</td>\n",
       "      <td>Middle</td>\n",
       "      <td>NaN</td>\n",
       "      <td>NaN</td>\n",
       "      <td>NaN</td>\n",
       "      <td>NaN</td>\n",
       "      <td>NaN</td>\n",
       "      <td>...</td>\n",
       "      <td>Medtech / Healthcare</td>\n",
       "      <td>Продуктова</td>\n",
       "      <td>до 1000</td>\n",
       "      <td>3</td>\n",
       "      <td>Вища (бакалавр, спеціаліст, магістр) - одна аб...</td>\n",
       "      <td>Upper-Intermediate</td>\n",
       "      <td>В Україні</td>\n",
       "      <td>Київ чи область</td>\n",
       "      <td>Жінка</td>\n",
       "      <td>27</td>\n",
       "    </tr>\n",
       "  </tbody>\n",
       "</table>\n",
       "<p>5 rows × 31 columns</p>\n",
       "</div>"
      ],
      "text/plain": [
       "            Timestamp         Ваша основна зайнятість в ІТ зараз...  \\\n",
       "0  5.26.2023 13:40:35  Працюю full-time в ІТ-компанії чи ІТ-відділі   \n",
       "1  5.26.2023 13:40:36  Працюю full-time в ІТ-компанії чи ІТ-відділі   \n",
       "2  5.26.2023 13:41:02  Працюю full-time в ІТ-компанії чи ІТ-відділі   \n",
       "3  5.26.2023 13:41:19  Працюю full-time в ІТ-компанії чи ІТ-відділі   \n",
       "4  5.26.2023 13:41:34  Працюю full-time в ІТ-компанії чи ІТ-відділі   \n",
       "\n",
       "  Зарплата / дохід у $$$ за місяць, лише ставка після сплати податків  \\\n",
       "0                                               2300                    \n",
       "1                                               3450                    \n",
       "2                                                900                    \n",
       "3                                               4000                    \n",
       "4                                               2700                    \n",
       "\n",
       "                          Спеціалізація Ваш тайтл на цій посаді  \\\n",
       "0        Marketing, PR, SEO, Copywriter                  Senior   \n",
       "1                     Software Engineer                  Middle   \n",
       "2        Marketing, PR, SEO, Copywriter               Team Lead   \n",
       "3                     Software Engineer                  Middle   \n",
       "4  Analyst (Business, Data, System etc)                  Middle   \n",
       "\n",
       "  Вкажіть вашу спеціалізацію Game Design Вкажіть вашу спеціалізацію Sound  \\\n",
       "0                                    NaN                              NaN   \n",
       "1                                    NaN                              NaN   \n",
       "2                                    NaN                              NaN   \n",
       "3                                    NaN                              NaN   \n",
       "4                                    NaN                              NaN   \n",
       "\n",
       "  Вкажіть вашу спеціалізацію - QA Оберіть вашу посаду Designer / Artist  \\\n",
       "0                             NaN                                   NaN   \n",
       "1                             NaN                                   NaN   \n",
       "2                             NaN                                   NaN   \n",
       "3                             NaN                                   NaN   \n",
       "4                             NaN                                   NaN   \n",
       "\n",
       "  Якщо ви працюєте в GameDev,  оберіть вашу спеціалізацію  ...  \\\n",
       "0                                                NaN       ...   \n",
       "1                                                NaN       ...   \n",
       "2                                                NaN       ...   \n",
       "3                                                NaN       ...   \n",
       "4                                                NaN       ...   \n",
       "\n",
       "  В якій сфері проєкт, в якому ви зараз працюєте?  \\\n",
       "0                                            Інша   \n",
       "1                            Medtech / Healthcare   \n",
       "2                                      E-commerce   \n",
       "3                                      E-commerce   \n",
       "4                            Medtech / Healthcare   \n",
       "\n",
       "  Основний напрям роботи компанії, в якій працюєте  \\\n",
       "0                                    Аутсорсингова   \n",
       "1                                    Аутсорсингова   \n",
       "2                                       Продуктова   \n",
       "3                                    Аутстафінгова   \n",
       "4                                       Продуктова   \n",
       "\n",
       "  Кількість спеціалістів у вашій компанії (в Україні/з України)  \\\n",
       "0                                             до 200              \n",
       "1                                         понад 1000              \n",
       "2                                             до 200              \n",
       "3                                         понад 1000              \n",
       "4                                            до 1000              \n",
       "\n",
       "  Загальний стаж роботи за нинішньою ІТ-спеціальністю  \\\n",
       "0                                                  4    \n",
       "1                                                  4    \n",
       "2                                                  5    \n",
       "3                                                  5    \n",
       "4                                                  3    \n",
       "\n",
       "                                   Яка у вас освіта? Знання англійської мови  \\\n",
       "0  Вища (бакалавр, спеціаліст, магістр) - одна аб...                Advanced   \n",
       "1  Вища (бакалавр, спеціаліст, магістр) - одна аб...        Pre-Intermediate   \n",
       "2  Вища (бакалавр, спеціаліст, магістр) - одна аб...      Upper-Intermediate   \n",
       "3  Вища (бакалавр, спеціаліст, магістр) - одна аб...      Upper-Intermediate   \n",
       "4  Вища (бакалавр, спеціаліст, магістр) - одна аб...      Upper-Intermediate   \n",
       "\n",
       "  Де ви зараз живете?  В якій області ви зараз живете? Ваша стать Ваш вік  \n",
       "0            В Україні                 Київ чи область    Чоловік      28  \n",
       "1            В Україні                 Київ чи область    Чоловік      28  \n",
       "2            В Україні             Миколаїв чи область      Жінка      27  \n",
       "3            В Україні                 Суми чи область    Чоловік      27  \n",
       "4            В Україні                 Київ чи область      Жінка      27  \n",
       "\n",
       "[5 rows x 31 columns]"
      ]
     },
     "execution_count": 19,
     "metadata": {},
     "output_type": "execute_result"
    }
   ],
   "source": [
    "june_2023_df = read_files('2023_june_raw.csv')\n",
    "june_2023_df.head()"
   ]
  },
  {
   "cell_type": "code",
   "execution_count": 20,
   "metadata": {},
   "outputs": [
    {
     "data": {
      "text/plain": [
       "Index(['Timestamp', 'Ваша основна зайнятість в ІТ зараз...',\n",
       "       'Зарплата / дохід у $$$ за місяць, лише ставка після сплати податків',\n",
       "       'Спеціалізація', 'Ваш тайтл на цій посаді',\n",
       "       'Вкажіть вашу спеціалізацію Game Design',\n",
       "       'Вкажіть вашу спеціалізацію Sound', 'Вкажіть вашу спеціалізацію - QA',\n",
       "       'Оберіть вашу посаду Designer / Artist',\n",
       "       'Якщо ви працюєте в GameDev,  оберіть вашу спеціалізацію',\n",
       "       'Ваша посада Marketing', 'Оберіть вашу посаду HR',\n",
       "       'Ваша посада Management', 'Ваша посада Analyst',\n",
       "       'Ваша посада Data Science', 'Ваша посада DevOps, SRE',\n",
       "       'Ваша посада CTO, Director', 'Ваша спеціалізація Support',\n",
       "       'Чи використовуєте ви у своїй роботі мови програмування (одну чи декілька)?',\n",
       "       'Основна мова програмування', 'Вкажіть вашу основну спеціалізацію',\n",
       "       'В якій сфері проєкт, в якому ви зараз працюєте?',\n",
       "       'Основний напрям роботи компанії, в якій працюєте',\n",
       "       'Кількість спеціалістів у вашій компанії (в Україні/з України)',\n",
       "       'Загальний стаж роботи за нинішньою ІТ-спеціальністю',\n",
       "       'Яка у вас освіта?', 'Знання англійської мови', 'Де ви зараз живете? ',\n",
       "       'В якій області ви зараз живете?', 'Ваша стать', 'Ваш вік'],\n",
       "      dtype='object')"
      ]
     },
     "execution_count": 20,
     "metadata": {},
     "output_type": "execute_result"
    }
   ],
   "source": [
    "june_2023_df = pd.concat([dec_2023_df, june_2023_df], ignore_index=True)\n",
    "june_2023_df.columns"
   ]
  },
  {
   "cell_type": "markdown",
   "metadata": {},
   "source": [
    "----\n"
   ]
  },
  {
   "cell_type": "markdown",
   "metadata": {},
   "source": [
    "# Dec 2022"
   ]
  },
  {
   "cell_type": "code",
   "execution_count": 21,
   "metadata": {},
   "outputs": [
    {
     "data": {
      "text/html": [
       "<div>\n",
       "<style scoped>\n",
       "    .dataframe tbody tr th:only-of-type {\n",
       "        vertical-align: middle;\n",
       "    }\n",
       "\n",
       "    .dataframe tbody tr th {\n",
       "        vertical-align: top;\n",
       "    }\n",
       "\n",
       "    .dataframe thead th {\n",
       "        text-align: right;\n",
       "    }\n",
       "</style>\n",
       "<table border=\"1\" class=\"dataframe\">\n",
       "  <thead>\n",
       "    <tr style=\"text-align: right;\">\n",
       "      <th></th>\n",
       "      <th>Timestamp</th>\n",
       "      <th>Ви працюєте зараз в ІТ?</th>\n",
       "      <th>Де ви зараз живете?</th>\n",
       "      <th>В якій області ви зараз живете?</th>\n",
       "      <th>Зарплата у $$$ за місяць, лише ставка після сплати податків</th>\n",
       "      <th>Ваша стать</th>\n",
       "      <th>Ваш вік</th>\n",
       "      <th>Яка у вас освіта?</th>\n",
       "      <th>Чи є у вас науковий ступінь?</th>\n",
       "      <th>Знання англійської мови</th>\n",
       "      <th>...</th>\n",
       "      <th>Ваша посада4</th>\n",
       "      <th>Ваша посада5</th>\n",
       "      <th>Ваша посада6</th>\n",
       "      <th>Ваша посада7</th>\n",
       "      <th>Чи використовуєте ви у своїй роботі мови програмування (одну чи декілька)?</th>\n",
       "      <th>Основна мова програмування</th>\n",
       "      <th>Вкажіть вашу основну спеціалізацію</th>\n",
       "      <th>В якій сфері працюєте?</th>\n",
       "      <th>Тип компанії</th>\n",
       "      <th>Загальний стаж роботи за спеціальністю</th>\n",
       "    </tr>\n",
       "  </thead>\n",
       "  <tbody>\n",
       "    <tr>\n",
       "      <th>0</th>\n",
       "      <td>11.30.2022 10:26:37</td>\n",
       "      <td>Так, працюю part-time</td>\n",
       "      <td>В Україні</td>\n",
       "      <td>Івано-Франківськ чи область</td>\n",
       "      <td>4000</td>\n",
       "      <td>Чоловік</td>\n",
       "      <td>29</td>\n",
       "      <td>Вища (бакалавр, спеціаліст, магістр)</td>\n",
       "      <td>Немає</td>\n",
       "      <td>Intermediate</td>\n",
       "      <td>...</td>\n",
       "      <td>NaN</td>\n",
       "      <td>NaN</td>\n",
       "      <td>NaN</td>\n",
       "      <td>NaN</td>\n",
       "      <td>NaN</td>\n",
       "      <td>NaN</td>\n",
       "      <td>NaN</td>\n",
       "      <td>Blockchain</td>\n",
       "      <td>Стартап</td>\n",
       "      <td>8 років</td>\n",
       "    </tr>\n",
       "    <tr>\n",
       "      <th>1</th>\n",
       "      <td>11.30.2022 10:26:39</td>\n",
       "      <td>Так, працюю full-time</td>\n",
       "      <td>За кордоном (переїхали через війну, але планую...</td>\n",
       "      <td>NaN</td>\n",
       "      <td>NaN</td>\n",
       "      <td>Чоловік</td>\n",
       "      <td>36</td>\n",
       "      <td>Вища (бакалавр, спеціаліст, магістр)</td>\n",
       "      <td>Немає</td>\n",
       "      <td>Advanced</td>\n",
       "      <td>...</td>\n",
       "      <td>NaN</td>\n",
       "      <td>NaN</td>\n",
       "      <td>NaN</td>\n",
       "      <td>NaN</td>\n",
       "      <td>NaN</td>\n",
       "      <td>Ruby</td>\n",
       "      <td>Full Stack розробка</td>\n",
       "      <td>Public services / Government</td>\n",
       "      <td>Продуктова</td>\n",
       "      <td>3 роки</td>\n",
       "    </tr>\n",
       "    <tr>\n",
       "      <th>2</th>\n",
       "      <td>11.30.2022 10:26:58</td>\n",
       "      <td>Так, працюю full-time</td>\n",
       "      <td>В Україні</td>\n",
       "      <td>Київ чи область</td>\n",
       "      <td>2500</td>\n",
       "      <td>Чоловік</td>\n",
       "      <td>34</td>\n",
       "      <td>Вища (бакалавр, спеціаліст, магістр)</td>\n",
       "      <td>Немає</td>\n",
       "      <td>Elementary</td>\n",
       "      <td>...</td>\n",
       "      <td>NaN</td>\n",
       "      <td>NaN</td>\n",
       "      <td>NaN</td>\n",
       "      <td>NaN</td>\n",
       "      <td>NaN</td>\n",
       "      <td>C# / .NET</td>\n",
       "      <td>Full Stack розробка</td>\n",
       "      <td>Adtech / Advertising, Security, Telecom</td>\n",
       "      <td>Продуктова</td>\n",
       "      <td>4 роки</td>\n",
       "    </tr>\n",
       "    <tr>\n",
       "      <th>3</th>\n",
       "      <td>11.30.2022 10:27:31</td>\n",
       "      <td>Так, працюю full-time</td>\n",
       "      <td>В Україні</td>\n",
       "      <td>Львів чи область</td>\n",
       "      <td>500</td>\n",
       "      <td>Жінка</td>\n",
       "      <td>23</td>\n",
       "      <td>Вища (бакалавр, спеціаліст, магістр)</td>\n",
       "      <td>Немає</td>\n",
       "      <td>Pre-Intermediate</td>\n",
       "      <td>...</td>\n",
       "      <td>NaN</td>\n",
       "      <td>NaN</td>\n",
       "      <td>NaN</td>\n",
       "      <td>NaN</td>\n",
       "      <td>Ні, не використовую</td>\n",
       "      <td>NaN</td>\n",
       "      <td>NaN</td>\n",
       "      <td>Telecom</td>\n",
       "      <td>Продуктова</td>\n",
       "      <td>Пів року</td>\n",
       "    </tr>\n",
       "    <tr>\n",
       "      <th>4</th>\n",
       "      <td>11.30.2022 10:27:34</td>\n",
       "      <td>Ні, тимчасово не працюю</td>\n",
       "      <td>В Україні</td>\n",
       "      <td>Житомир чи область</td>\n",
       "      <td>2800</td>\n",
       "      <td>Жінка</td>\n",
       "      <td>33</td>\n",
       "      <td>Вища (бакалавр, спеціаліст, магістр)</td>\n",
       "      <td>Немає</td>\n",
       "      <td>Upper-Intermediate</td>\n",
       "      <td>...</td>\n",
       "      <td>NaN</td>\n",
       "      <td>NaN</td>\n",
       "      <td>NaN</td>\n",
       "      <td>NaN</td>\n",
       "      <td>Ні, не використовую</td>\n",
       "      <td>NaN</td>\n",
       "      <td>NaN</td>\n",
       "      <td>Automotive</td>\n",
       "      <td>Продуктова</td>\n",
       "      <td>6 років</td>\n",
       "    </tr>\n",
       "  </tbody>\n",
       "</table>\n",
       "<p>5 rows × 28 columns</p>\n",
       "</div>"
      ],
      "text/plain": [
       "             Timestamp  Ви працюєте зараз в ІТ?  \\\n",
       "0  11.30.2022 10:26:37    Так, працюю part-time   \n",
       "1  11.30.2022 10:26:39    Так, працюю full-time   \n",
       "2  11.30.2022 10:26:58    Так, працюю full-time   \n",
       "3  11.30.2022 10:27:31    Так, працюю full-time   \n",
       "4  11.30.2022 10:27:34  Ні, тимчасово не працюю   \n",
       "\n",
       "                                Де ви зараз живете?   \\\n",
       "0                                          В Україні   \n",
       "1  За кордоном (переїхали через війну, але планую...   \n",
       "2                                          В Україні   \n",
       "3                                          В Україні   \n",
       "4                                          В Україні   \n",
       "\n",
       "  В якій області ви зараз живете?  \\\n",
       "0     Івано-Франківськ чи область   \n",
       "1                             NaN   \n",
       "2                 Київ чи область   \n",
       "3                Львів чи область   \n",
       "4              Житомир чи область   \n",
       "\n",
       "  Зарплата у $$$ за місяць, лише ставка після сплати податків Ваша стать  \\\n",
       "0                                               4000             Чоловік   \n",
       "1                                                NaN             Чоловік   \n",
       "2                                               2500             Чоловік   \n",
       "3                                                500               Жінка   \n",
       "4                                               2800               Жінка   \n",
       "\n",
       "  Ваш вік                     Яка у вас освіта? Чи є у вас науковий ступінь?   \\\n",
       "0      29  Вища (бакалавр, спеціаліст, магістр)                         Немає   \n",
       "1      36  Вища (бакалавр, спеціаліст, магістр)                         Немає   \n",
       "2      34  Вища (бакалавр, спеціаліст, магістр)                         Немає   \n",
       "3      23  Вища (бакалавр, спеціаліст, магістр)                         Немає   \n",
       "4      33  Вища (бакалавр, спеціаліст, магістр)                         Немає   \n",
       "\n",
       "  Знання англійської мови  ... Ваша посада4 Ваша посада5 Ваша посада6  \\\n",
       "0            Intermediate  ...          NaN          NaN          NaN   \n",
       "1                Advanced  ...          NaN          NaN          NaN   \n",
       "2              Elementary  ...          NaN          NaN          NaN   \n",
       "3        Pre-Intermediate  ...          NaN          NaN          NaN   \n",
       "4      Upper-Intermediate  ...          NaN          NaN          NaN   \n",
       "\n",
       "  Ваша посада7  \\\n",
       "0          NaN   \n",
       "1          NaN   \n",
       "2          NaN   \n",
       "3          NaN   \n",
       "4          NaN   \n",
       "\n",
       "  Чи використовуєте ви у своїй роботі мови програмування (одну чи декілька)?  \\\n",
       "0                                                NaN                           \n",
       "1                                                NaN                           \n",
       "2                                                NaN                           \n",
       "3                                Ні, не використовую                           \n",
       "4                                Ні, не використовую                           \n",
       "\n",
       "  Основна мова програмування Вкажіть вашу основну спеціалізацію  \\\n",
       "0                        NaN                                NaN   \n",
       "1                       Ruby                Full Stack розробка   \n",
       "2                  C# / .NET                Full Stack розробка   \n",
       "3                        NaN                                NaN   \n",
       "4                        NaN                                NaN   \n",
       "\n",
       "                    В якій сфері працюєте? Тип компанії  \\\n",
       "0                               Blockchain      Стартап   \n",
       "1             Public services / Government   Продуктова   \n",
       "2  Adtech / Advertising, Security, Telecom   Продуктова   \n",
       "3                                  Telecom   Продуктова   \n",
       "4                               Automotive   Продуктова   \n",
       "\n",
       "  Загальний стаж роботи за спеціальністю  \n",
       "0                                8 років  \n",
       "1                                 3 роки  \n",
       "2                                 4 роки  \n",
       "3                               Пів року  \n",
       "4                                6 років  \n",
       "\n",
       "[5 rows x 28 columns]"
      ]
     },
     "execution_count": 21,
     "metadata": {},
     "output_type": "execute_result"
    }
   ],
   "source": [
    "dec_2022_df = read_files('2022_dec_raw.csv')\n",
    "dec_2022_df.head()"
   ]
  },
  {
   "cell_type": "markdown",
   "metadata": {},
   "source": [
    "Map columns to one standart"
   ]
  },
  {
   "cell_type": "code",
   "execution_count": 22,
   "metadata": {},
   "outputs": [],
   "source": [
    "dec_2022_columns_map ={\n",
    "    'В якій сфері працюєте?': 'В якій сфері проєкт, в якому ви зараз працюєте?',\n",
    "    'Ваш тайтл': 'Ваш тайтл на цій посаді',\n",
    "    'Ваша посада6': 'Ваша посада DevOps, SRE',\n",
    "    'Ваша посада5': 'Ваша посада Data Science' ,\n",
    "    'Ваша посада7': 'Ваша посада CTO, Director',\n",
    "    'Ваша посада4' : 'Ваша посада Analyst',\n",
    "    'Ваша посада' : 'Ваша посада Marketing',\n",
    "    'Ваша посада3': 'Ваша посада Management',\n",
    "    'Загальний стаж роботи за спеціальністю': 'Загальний стаж роботи за нинішньою ІТ-спеціальністю',\n",
    "    'Зарплата у $$$ за місяць, лише ставка після сплати податків': 'Зарплата / дохід у $$$ за місяць, лише ставка після сплати податків',\n",
    "    'Вкажіть вашу спеціалізацію' : 'Вкажіть вашу спеціалізацію - QA',\n",
    "    'Ваша спеціалізація' : 'Якщо ви працюєте в GameDev,  оберіть вашу спеціалізацію',\n",
    "    'Оберіть вашу посаду2' : 'Оберіть вашу посаду HR',\n",
    "    'Оберіть вашу спеціалізацію' : 'Оберіть вашу посаду Designer / Artist',\n",
    "    'Тип компанії': 'Основний напрям роботи компанії, в якій працюєте',\n",
    "    'Ви працюєте зараз в ІТ?': 'Ваша основна зайнятість в ІТ зараз...',\n",
    "    'Оберіть вашу посаду' :'Спеціалізація'\n",
    "    \n",
    "}"
   ]
  },
  {
   "cell_type": "code",
   "execution_count": 23,
   "metadata": {},
   "outputs": [
    {
     "data": {
      "text/plain": [
       "['Чи є у вас науковий ступінь? ']"
      ]
     },
     "execution_count": 23,
     "metadata": {},
     "output_type": "execute_result"
    }
   ],
   "source": [
    "get_new_columns(dec_2022_df,june_2023_df,dec_2022_columns_map)"
   ]
  },
  {
   "cell_type": "code",
   "execution_count": 24,
   "metadata": {},
   "outputs": [
    {
     "data": {
      "text/plain": [
       "['Вкажіть вашу спеціалізацію Game Design',\n",
       " 'Вкажіть вашу спеціалізацію Sound',\n",
       " 'Ваша спеціалізація Support',\n",
       " 'Кількість спеціалістів у вашій компанії (в Україні/з України)']"
      ]
     },
     "execution_count": 24,
     "metadata": {},
     "output_type": "execute_result"
    }
   ],
   "source": [
    "get_absent_columns(june_2023_df,dec_2022_df,dec_2022_columns_map)"
   ]
  },
  {
   "cell_type": "code",
   "execution_count": 25,
   "metadata": {},
   "outputs": [
    {
     "data": {
      "text/plain": [
       "Index(['Timestamp', 'Ваша основна зайнятість в ІТ зараз...',\n",
       "       'Де ви зараз живете? ', 'В якій області ви зараз живете?',\n",
       "       'Зарплата / дохід у $$$ за місяць, лише ставка після сплати податків',\n",
       "       'Ваша стать', 'Ваш вік', 'Яка у вас освіта?',\n",
       "       'Чи є у вас науковий ступінь? ', 'Знання англійської мови',\n",
       "       'Спеціалізація', 'Ваш тайтл на цій посаді',\n",
       "       'Якщо ви працюєте в GameDev,  оберіть вашу спеціалізацію',\n",
       "       'Вкажіть вашу спеціалізацію - QA',\n",
       "       'Оберіть вашу посаду Designer / Artist', 'Ваша посада Marketing',\n",
       "       'Оберіть вашу посаду HR', 'Ваша посада Management',\n",
       "       'Ваша посада Analyst', 'Ваша посада Data Science',\n",
       "       'Ваша посада DevOps, SRE', 'Ваша посада CTO, Director',\n",
       "       'Чи використовуєте ви у своїй роботі мови програмування (одну чи декілька)?',\n",
       "       'Основна мова програмування', 'Вкажіть вашу основну спеціалізацію',\n",
       "       'В якій сфері проєкт, в якому ви зараз працюєте?',\n",
       "       'Основний напрям роботи компанії, в якій працюєте',\n",
       "       'Загальний стаж роботи за нинішньою ІТ-спеціальністю',\n",
       "       'Вкажіть вашу спеціалізацію Game Design',\n",
       "       'Вкажіть вашу спеціалізацію Sound', 'Ваша спеціалізація Support',\n",
       "       'Кількість спеціалістів у вашій компанії (в Україні/з України)'],\n",
       "      dtype='object')"
      ]
     },
     "execution_count": 25,
     "metadata": {},
     "output_type": "execute_result"
    }
   ],
   "source": [
    "dec_2022_df_renamed = dec_2022_df.rename(columns=dec_2022_columns_map)\n",
    "d_22_j_23_df =pd.concat([dec_2022_df_renamed, june_2023_df], ignore_index=True) # consolidate the processed data\n",
    "d_22_j_23_df.columns"
   ]
  },
  {
   "cell_type": "markdown",
   "metadata": {},
   "source": [
    "# June 2021"
   ]
  },
  {
   "cell_type": "code",
   "execution_count": 26,
   "metadata": {},
   "outputs": [],
   "source": [
    "june_2021_df = read_files('2021_june_raw.csv')\n"
   ]
  },
  {
   "cell_type": "markdown",
   "metadata": {},
   "source": [
    "Title column consolidation"
   ]
  },
  {
   "cell_type": "code",
   "execution_count": 27,
   "metadata": {},
   "outputs": [],
   "source": [
    "titles = ['Ваш тайтл',\n",
    "    'Ваш тайтл_2',\n",
    " 'Ваш тайтл_3',\n",
    " 'Ваш тайтл_5',\n",
    " 'Ваш тайтл_7',\n",
    " 'Ваш тайтл_9',\n",
    " 'Ваш тайтл_11',\n",
    " 'Ваш тайтл_13',\n",
    " 'Middle']\n",
    "\n",
    "for i in titles:\n",
    "    for j in titles:\n",
    "        if i!= j and june_2021_df[(june_2021_df[i].notna()) & (june_2021_df[j].notna())].shape[0]!=0:\n",
    "            print('Titles intersect')\n",
    "\n",
    "\n",
    "for i,title in enumerate(titles):\n",
    "    title_values_index = june_2021_df[title].dropna().index.tolist()\n",
    "    title_values = june_2021_df[title][title_values_index].tolist()\n",
    "    june_2021_df.loc[title_values_index,'Ваш тайтл'] = title_values\n",
    "\n",
    "june_2021_df = june_2021_df.drop(columns=titles[1:])"
   ]
  },
  {
   "cell_type": "markdown",
   "metadata": {},
   "source": [
    "Programming language column consolidation"
   ]
  },
  {
   "cell_type": "code",
   "execution_count": 28,
   "metadata": {},
   "outputs": [],
   "source": [
    "pr_languages = [\n",
    "    'Основна мова програмування',\n",
    "    'Яку мову програмування використовуєте в роботі?'\n",
    "]\n",
    "for i,lang in enumerate(pr_languages):\n",
    "    lang_values_index = june_2021_df[lang].dropna().index.tolist()\n",
    "    lang_values = june_2021_df[lang][lang_values_index].tolist()\n",
    "    june_2021_df.loc[lang_values_index,'Основна мова програмування'] = lang_values\n",
    "\n",
    "june_2021_df = june_2021_df.drop(columns=pr_languages[1:])"
   ]
  },
  {
   "cell_type": "code",
   "execution_count": 29,
   "metadata": {},
   "outputs": [],
   "source": [
    "june_2021_columns_map = {\n",
    "    'Позначка часу': 'Timestamp',\n",
    "    'Де ви мешкаєте?': 'В якій області ви зараз живете?',\n",
    "    'Зарплата у $$$ за місяць, лише ставка після сплати податків': 'Зарплата / дохід у $$$ за місяць, лише ставка після сплати податків',\n",
    "    'Тип компанії': 'Основний напрям роботи компанії, в якій працюєте',\n",
    "    'Чи працюєте ви зараз?': 'Ваша основна зайнятість в ІТ зараз...',\n",
    "    'Загальний стаж роботи за нинішньою спеціалізацією': 'Загальний стаж роботи за нинішньою ІТ-спеціальністю',\n",
    "    'В якій сфері працюєте ви / ваш поточний проєкт?' : 'В якій сфері проєкт, в якому ви зараз працюєте?',\n",
    "    'Кількість спеціалістів у вашій компанії (в Україні)': 'Кількість спеціалістів у вашій компанії (в Україні/з України)',\n",
    "    # 'Яку мову програмування використовуєте в роботі?':'Основна мова програмування',\n",
    "    'Вкажіть вашу спеціалізацію':'Вкажіть вашу спеціалізацію - QA',\n",
    "    'Оберіть вашу посаду_1' :  'Оберіть вашу посаду Designer / Artist',\n",
    "    'Ваша посада': 'Ваша посада Marketing',\n",
    "    'Оберіть вашу посаду_4': 'Оберіть вашу посаду HR',\n",
    "    'Ваша посада_6' : 'Ваша посада Management',\n",
    "    'Ваша посада_8' :'Ваша посада Analyst',\n",
    "    'Ваша посада_10' :'Ваша посада Data Science',\n",
    "    'Ваша посада_12':'Ваша посада DevOps, SRE',\n",
    "    'Ваша посада_14':'Ваша посада CTO, Director',\n",
    "    'Оберіть вашу посаду': 'Спеціалізація',\n",
    "    'Ваш тайтл' : 'Ваш тайтл на цій посаді'\n",
    "}"
   ]
  },
  {
   "cell_type": "code",
   "execution_count": 30,
   "metadata": {},
   "outputs": [],
   "source": [
    "june_2021_df.loc[june_2021_df['Позначка часу'].isna(),'Позначка часу'] = pd.Timestamp(year=2021, month=6, day=1) #fill empty values in Timestamp"
   ]
  },
  {
   "cell_type": "code",
   "execution_count": 31,
   "metadata": {},
   "outputs": [
    {
     "data": {
      "text/plain": [
       "['Загальний стаж роботи в ІТ',\n",
       " 'Інші мови програмування',\n",
       " 'Фреймворки, бібліотеки та платформи',\n",
       " 'Платформи, для яких розробляєте на поточному місці роботи?',\n",
       " 'Стаж на поточному місці роботи',\n",
       " 'Наскільки змінилась ваша зарплата за останні 12 місяців?',\n",
       " 'Чи отримуєте ви грошові бонуси до зарплати?',\n",
       " 'Вкажіть суму цього бонуса у  після податків',\n",
       " 'Вкажіть ваш основний заклад вищої освіти (якщо вчилися в кількох – той, де провели найбільше часу)']"
      ]
     },
     "execution_count": 31,
     "metadata": {},
     "output_type": "execute_result"
    }
   ],
   "source": [
    "get_new_columns(june_2021_df,june_2023_df,june_2021_columns_map)"
   ]
  },
  {
   "cell_type": "code",
   "execution_count": 32,
   "metadata": {},
   "outputs": [
    {
     "data": {
      "text/plain": [
       "['Вкажіть вашу спеціалізацію Game Design',\n",
       " 'Вкажіть вашу спеціалізацію Sound',\n",
       " 'Якщо ви працюєте в GameDev,  оберіть вашу спеціалізацію',\n",
       " 'Ваша спеціалізація Support',\n",
       " 'Чи використовуєте ви у своїй роботі мови програмування (одну чи декілька)?',\n",
       " 'Де ви зараз живете? ']"
      ]
     },
     "execution_count": 32,
     "metadata": {},
     "output_type": "execute_result"
    }
   ],
   "source": [
    "get_absent_columns(june_2023_df,june_2021_df,june_2021_columns_map)"
   ]
  },
  {
   "cell_type": "code",
   "execution_count": 33,
   "metadata": {},
   "outputs": [],
   "source": [
    "june_2021_df_renamed = june_2021_df.rename(columns=june_2021_columns_map)\n",
    "j_21_d_22_j_23_df =pd.concat([june_2021_df_renamed, d_22_j_23_df],ignore_index=True) # consolidate the processed data"
   ]
  },
  {
   "cell_type": "markdown",
   "metadata": {},
   "source": [
    "---"
   ]
  },
  {
   "cell_type": "markdown",
   "metadata": {},
   "source": [
    "# Dec 2021"
   ]
  },
  {
   "cell_type": "code",
   "execution_count": 34,
   "metadata": {},
   "outputs": [
    {
     "data": {
      "text/plain": [
       "Index(['Timestamp', 'Ви працюєте зараз в ІТ?', 'Де ви мешкаєте?',\n",
       "       'Де ви працюєте?', 'Ваша стать', 'Ваш вік', 'Яка у вас освіта?',\n",
       "       'Чи є у вас науковий ступінь? ', 'Знання англійської мови',\n",
       "       'Оберіть вашу посаду', 'Ваш тайтл', 'Ваш тайтл.1',\n",
       "       'Вкажіть вашу спеціалізацію', 'Оберіть вашу посаду.1', 'Ваш тайтл.2',\n",
       "       'Ваша посада', 'Ваш тайтл.3', 'Оберіть вашу посаду.2', 'Ваш тайтл.4',\n",
       "       'Ваша посада.1', 'Ваш тайтл.5', 'Ваша посада.2', 'Ваш тайтл.6',\n",
       "       'Ваша посада.3', 'Ваш тайтл.7', 'Ваша посада.4', 'Ваш тайтл.8',\n",
       "       'Ваш тайтл.9', 'Ваша посада.5',\n",
       "       'Чи використовуєте ви у своїй роботі мови програмування (одну чи декілька)?',\n",
       "       'Основна мова програмування', 'Інші мови програмування',\n",
       "       'Платформи, для яких розробляєте на поточному місці роботи?',\n",
       "       'Вкажіть вашу основну спеціалізацію', 'В якій сфері працюєте?',\n",
       "       'Тип компанії', 'Кількість спеціалістів у вашій компанії (в Україні)',\n",
       "       'Загальний стаж роботи в ІТ', 'Загальний стаж роботи за спеціальністю',\n",
       "       'У скількох компаніях встигли попрацювати за час ІТ-кар'єри?',\n",
       "       'Зарплата у $$$ за місяць, лише ставка після сплати податків',\n",
       "       'Наскільки змінилась ваша зарплата за останні 12 місяців?',\n",
       "       'Ставка у $$$ за годину, яку ви виставляєте клієнтам',\n",
       "       'Чи отримуєте ви грошові бонуси до зарплати?',\n",
       "       'Вкажіть суму цього бонуса у $$$ після податків'],\n",
       "      dtype='object')"
      ]
     },
     "execution_count": 34,
     "metadata": {},
     "output_type": "execute_result"
    }
   ],
   "source": [
    "dec_2021_df = read_files( '2021_dec_raw.csv')\n",
    "dec_2021_df.columns"
   ]
  },
  {
   "cell_type": "code",
   "execution_count": 35,
   "metadata": {},
   "outputs": [],
   "source": [
    "dec_2021_columns_map = {\n",
    "    'Ви працюєте зараз в ІТ?': 'Ваша основна зайнятість в ІТ зараз...',\n",
    "    'Де ви мешкаєте?': 'В якій області ви зараз живете?',\n",
    "    'Вкажіть суму цього бонуса у  після податків': 'Вкажіть суму цього бонуса у $$$ після податків',\n",
    "    'Ваша посада': 'Ваша посада Marketing',\n",
    "    'Оберіть вашу посаду.1': 'Оберіть вашу посаду Designer / Artist',\n",
    "    'Оберіть вашу посаду.2': 'Оберіть вашу посаду HR',\n",
    "    'Ваша посада.1': 'Ваша посада Management',\n",
    "    'Ваша посада.2': 'Ваша посада Analyst',\n",
    "    'Ваша посада.3': 'Ваша посада Data Science',\n",
    "    'Ваша посада.4': 'Ваша посада DevOps, SRE',\n",
    "    'Ваша посада.5': 'Ваша посада CTO, Director',\n",
    "    'Оберіть вашу посаду': 'Спеціалізація',\n",
    "    'Ваш тайтл': 'Ваш тайтл на цій посаді',\n",
    "    'Вкажіть вашу спеціалізацію':'Вкажіть вашу спеціалізацію - QA',\n",
    "    'В якій сфері працюєте?':'В якій сфері проєкт, в якому ви зараз працюєте?',\n",
    "    'Тип компанії': 'Основний напрям роботи компанії, в якій працюєте',\n",
    "    'Кількість спеціалістів у вашій компанії (в Україні)' : 'Кількість спеціалістів у вашій компанії (в Україні/з України)',\n",
    "    'Загальний стаж роботи за спеціальністю': 'Загальний стаж роботи за нинішньою ІТ-спеціальністю',\n",
    "    'Зарплата у $$$ за місяць, лише ставка після сплати податків':'Зарплата / дохід у $$$ за місяць, лише ставка після сплати податків',\n",
    "     'Вкажіть суму цього бонуса у $$$ після податків': 'Вкажіть суму цього бонуса у  після податків'\n",
    "\n",
    "    \n",
    "    \n",
    "    \n",
    "}"
   ]
  },
  {
   "cell_type": "markdown",
   "metadata": {},
   "source": [
    "Title column consolidation"
   ]
  },
  {
   "cell_type": "code",
   "execution_count": 36,
   "metadata": {},
   "outputs": [],
   "source": [
    "titles = ['Ваш тайтл',\n",
    "    'Ваш тайтл.1',\n",
    " 'Ваш тайтл.2',\n",
    " 'Ваш тайтл.3',\n",
    " 'Ваш тайтл.4',\n",
    " 'Ваш тайтл.5',\n",
    " 'Ваш тайтл.6',\n",
    " 'Ваш тайтл.7',\n",
    " 'Ваш тайтл.8',\n",
    " 'Ваш тайтл.9',]\n",
    "for i in titles:\n",
    "    for j in titles:\n",
    "        if i!= j and dec_2021_df[(dec_2021_df[i].notna()) & (dec_2021_df[j].notna())].shape[0]!=0:\n",
    "            print('Titles intersect')\n",
    "\n",
    "\n",
    "for i,title in enumerate(titles):\n",
    "    title_values_index =  dec_2021_df[title].dropna().index.tolist()\n",
    "    title_values = dec_2021_df[title][title_values_index].tolist()\n",
    "    dec_2021_df.loc[title_values_index,'Ваш тайтл'] = title_values\n",
    "\n",
    "dec_2021_df = dec_2021_df.drop(columns=titles[1:])"
   ]
  },
  {
   "cell_type": "code",
   "execution_count": 37,
   "metadata": {},
   "outputs": [
    {
     "data": {
      "text/plain": [
       "['Де ви працюєте?',\n",
       " \"У скількох компаніях встигли попрацювати за час ІТ-кар'єри?\",\n",
       " 'Ставка у $$$ за годину, яку ви виставляєте клієнтам']"
      ]
     },
     "execution_count": 37,
     "metadata": {},
     "output_type": "execute_result"
    }
   ],
   "source": [
    "get_new_columns(dec_2021_df,j_21_d_22_j_23_df,dec_2021_columns_map)"
   ]
  },
  {
   "cell_type": "code",
   "execution_count": 38,
   "metadata": {},
   "outputs": [
    {
     "data": {
      "text/plain": [
       "['Фреймворки, бібліотеки та платформи',\n",
       " 'Стаж на поточному місці роботи',\n",
       " 'Вкажіть ваш основний заклад вищої освіти (якщо вчилися в кількох – той, де провели найбільше часу)',\n",
       " 'Де ви зараз живете? ',\n",
       " 'Якщо ви працюєте в GameDev,  оберіть вашу спеціалізацію',\n",
       " 'Вкажіть вашу спеціалізацію Game Design',\n",
       " 'Вкажіть вашу спеціалізацію Sound',\n",
       " 'Ваша спеціалізація Support']"
      ]
     },
     "execution_count": 38,
     "metadata": {},
     "output_type": "execute_result"
    }
   ],
   "source": [
    "get_absent_columns(j_21_d_22_j_23_df,dec_2021_df,dec_2021_columns_map)"
   ]
  },
  {
   "cell_type": "code",
   "execution_count": 39,
   "metadata": {},
   "outputs": [
    {
     "data": {
      "text/plain": [
       "Index(['Timestamp', 'Ваша основна зайнятість в ІТ зараз...',\n",
       "       'В якій області ви зараз живете?', 'Де ви працюєте?', 'Ваша стать',\n",
       "       'Ваш вік', 'Яка у вас освіта?', 'Чи є у вас науковий ступінь? ',\n",
       "       'Знання англійської мови', 'Спеціалізація', 'Ваш тайтл на цій посаді',\n",
       "       'Вкажіть вашу спеціалізацію - QA',\n",
       "       'Оберіть вашу посаду Designer / Artist', 'Ваша посада Marketing',\n",
       "       'Оберіть вашу посаду HR', 'Ваша посада Management',\n",
       "       'Ваша посада Analyst', 'Ваша посада Data Science',\n",
       "       'Ваша посада DevOps, SRE', 'Ваша посада CTO, Director',\n",
       "       'Чи використовуєте ви у своїй роботі мови програмування (одну чи декілька)?',\n",
       "       'Основна мова програмування', 'Інші мови програмування',\n",
       "       'Платформи, для яких розробляєте на поточному місці роботи?',\n",
       "       'Вкажіть вашу основну спеціалізацію',\n",
       "       'В якій сфері проєкт, в якому ви зараз працюєте?',\n",
       "       'Основний напрям роботи компанії, в якій працюєте',\n",
       "       'Кількість спеціалістів у вашій компанії (в Україні/з України)',\n",
       "       'Загальний стаж роботи в ІТ',\n",
       "       'Загальний стаж роботи за нинішньою ІТ-спеціальністю',\n",
       "       'У скількох компаніях встигли попрацювати за час ІТ-кар'єри?',\n",
       "       'Зарплата / дохід у $$$ за місяць, лише ставка після сплати податків',\n",
       "       'Наскільки змінилась ваша зарплата за останні 12 місяців?',\n",
       "       'Ставка у $$$ за годину, яку ви виставляєте клієнтам',\n",
       "       'Чи отримуєте ви грошові бонуси до зарплати?',\n",
       "       'Вкажіть суму цього бонуса у  після податків',\n",
       "       'Фреймворки, бібліотеки та платформи', 'Стаж на поточному місці роботи',\n",
       "       'Вкажіть ваш основний заклад вищої освіти (якщо вчилися в кількох – той, де провели найбільше часу)',\n",
       "       'Де ви зараз живете? ',\n",
       "       'Якщо ви працюєте в GameDev,  оберіть вашу спеціалізацію',\n",
       "       'Вкажіть вашу спеціалізацію Game Design',\n",
       "       'Вкажіть вашу спеціалізацію Sound', 'Ваша спеціалізація Support'],\n",
       "      dtype='object')"
      ]
     },
     "execution_count": 39,
     "metadata": {},
     "output_type": "execute_result"
    }
   ],
   "source": [
    "dec_2021_df_renamed = dec_2021_df.rename(columns=dec_2021_columns_map)\n",
    "d_21_j_21_d_22_j_23_df =pd.concat([dec_2021_df_renamed, j_21_d_22_j_23_df],ignore_index=True)\n",
    "d_21_j_21_d_22_j_23_df.columns"
   ]
  },
  {
   "cell_type": "markdown",
   "metadata": {},
   "source": [
    "----"
   ]
  },
  {
   "cell_type": "markdown",
   "metadata": {},
   "source": [
    "# Dec 2020"
   ]
  },
  {
   "cell_type": "code",
   "execution_count": 40,
   "metadata": {},
   "outputs": [
    {
     "data": {
      "text/plain": [
       "Index(['Отметка времени', 'Ви працюєте зараз в ІТ?', 'Де ви мешкаєте?',\n",
       "       'Де ви працюєте?', 'Ваша стать', 'Ваш вік', 'Яка у вас освіта?',\n",
       "       'Вкажіть заклад вищої освіти', 'Знання англійської мови',\n",
       "       'Оберіть вашу посаду', 'Ваш тайтл', 'Вкажіть вашу спеціалізацію',\n",
       "       'Основна мова програмування', 'Інші мови програмування',\n",
       "       'Фреймворки, бібліотеки та платформи',\n",
       "       'Платформи, для яких розробляєте на поточному місці роботи?',\n",
       "       'Ваш тайтл_1', 'Вкажіть вашу спеціалізацію_2',\n",
       "       'Яку мову програмування використовуєте у роботі?',\n",
       "       'Оберіть вашу посаду_3', 'Ваш тайтл_4', 'Ваша посада', 'Ваш тайтл_5',\n",
       "       'Оберіть вашу посаду_6', 'Ваш тайтл_7', 'Ваша посада_8', 'Ваш тайтл_9',\n",
       "       'Ваша посада_10', 'Ваш тайтл_11', 'Ваша посада_12', 'Ваш тайтл_13',\n",
       "       'Ваша посада_14', 'Ваш тайтл_15', 'Ваша посада_16',\n",
       "       'В якій сфері працюєте?', 'Тип компанії',\n",
       "       'Кількість спеціалістів у вашій компанії (в Україні)',\n",
       "       'Загальний стаж роботи за спеціальністю',\n",
       "       'Стаж на поточному місці роботи',\n",
       "       'У скількох компаніях встигли попрацювати за час ІТ-кар'єри?',\n",
       "       'Зарплата у $$$ за місяць, лише ставка після сплати податків',\n",
       "       'Наскільки змінилась ваша зарплата за останні 12 місяців?',\n",
       "       'Чи отримуєте ви грошові бонуси до зарплати?',\n",
       "       'Вкажіть суму цього бонуса у $$$ після податків'],\n",
       "      dtype='object')"
      ]
     },
     "execution_count": 40,
     "metadata": {},
     "output_type": "execute_result"
    }
   ],
   "source": [
    "dec_2020_df = read_files('2020_dec_raw.csv')\n",
    "dec_2020_df.columns"
   ]
  },
  {
   "cell_type": "markdown",
   "metadata": {},
   "source": [
    "Programming language column consolidation"
   ]
  },
  {
   "cell_type": "code",
   "execution_count": 41,
   "metadata": {},
   "outputs": [],
   "source": [
    "pr_languages = [\n",
    "    'Основна мова програмування',\n",
    "    'Яку мову програмування використовуєте у роботі?'\n",
    "]\n",
    "\n",
    "for i,lang in enumerate(pr_languages):\n",
    "    lang_values_index = dec_2020_df[lang].dropna().index.tolist()\n",
    "    lang_values = dec_2020_df[lang][lang_values_index].tolist()\n",
    "    dec_2020_df.loc[lang_values_index,'Основна мова програмування'] = lang_values\n",
    "\n",
    "dec_2020_df = dec_2020_df.drop(columns=pr_languages[1:])"
   ]
  },
  {
   "cell_type": "markdown",
   "metadata": {},
   "source": [
    "Title column consolidation"
   ]
  },
  {
   "cell_type": "code",
   "execution_count": 42,
   "metadata": {},
   "outputs": [],
   "source": [
    "titles = ['Ваш тайтл',\n",
    "    'Ваш тайтл_1',\n",
    " 'Ваш тайтл_4',\n",
    " 'Ваш тайтл_5',\n",
    " 'Ваш тайтл_7',\n",
    " 'Ваш тайтл_9',\n",
    " 'Ваш тайтл_11',\n",
    " 'Ваш тайтл_13',\n",
    " 'Ваш тайтл_15',]\n",
    "for i in titles:\n",
    "    for j in titles:\n",
    "        if i!= j and dec_2020_df[(dec_2020_df[i].notna()) & (dec_2020_df[j].notna())].shape[0]!=0:\n",
    "            print('Titles intersect')\n",
    "\n",
    "titles_values_index = dec_2020_df[titles].apply(lambda x: x.dropna().index.tolist())\n",
    "for i,title in enumerate(titles):\n",
    "    title_values_index = dec_2020_df[title].dropna().index.tolist()\n",
    "    title_values = dec_2020_df[title][title_values_index].tolist()\n",
    "    dec_2020_df.loc[title_values_index,'Ваш тайтл'] = title_values\n",
    "\n",
    "dec_2020_df = dec_2020_df.drop(columns=titles[1:])"
   ]
  },
  {
   "cell_type": "code",
   "execution_count": 43,
   "metadata": {},
   "outputs": [],
   "source": [
    "dec_2020_columns_map = {\n",
    "        'Отметка времени': 'Timestamp',\n",
    "        'Ви працюєте зараз в ІТ?': 'Ваша основна зайнятість в ІТ зараз...',\n",
    "        'Де ви мешкаєте?': 'В якій області ви зараз живете?',\n",
    "        'Тип компанії': 'Основний напрям роботи компанії, в якій працюєте',\n",
    "        'В якій сфері працюєте?': 'В якій сфері проєкт, в якому ви зараз працюєте?',\n",
    "        'Кількість спеціалістів у вашій компанії (в Україні)':'Кількість спеціалістів у вашій компанії (в Україні/з України)',\n",
    "        'Загальний стаж роботи за спеціальністю': 'Загальний стаж роботи за нинішньою ІТ-спеціальністю',\n",
    "        'Зарплата у $$$ за місяць, лише ставка після сплати податків': 'Зарплата / дохід у $$$ за місяць, лише ставка після сплати податків',\n",
    "        'Вкажіть заклад вищої освіти': 'Вкажіть ваш основний заклад вищої освіти (якщо вчилися в кількох – той, де провели найбільше часу)',\n",
    "        'Оберіть вашу посаду': 'Спеціалізація',\n",
    "        'Вкажіть суму цього бонуса у $$$ після податків': 'Вкажіть суму цього бонуса у  після податків',\n",
    "        'Ваш тайтл': 'Ваш тайтл на цій посаді',\n",
    "        'Вкажіть вашу спеціалізацію_2': 'Вкажіть вашу спеціалізацію - QA',\n",
    "        'Оберіть вашу посаду_3' : 'Оберіть вашу посаду Designer / Artist',\n",
    "        'Оберіть вашу посаду_6':  'Оберіть вашу посаду HR',\n",
    "        'Ваша посада_8' :  'Ваша посада Management',\n",
    "        'Ваша посада_10' :  'Ваша посада Analyst',\n",
    "        'Ваша посада_12' : 'Ваша посада Data Science',\n",
    "        'Ваша посада_14': 'Ваша посада DevOps, SRE',\n",
    "        'Ваша посада_16':'Ваша посада CTO, Director',\n",
    "        'Ваша посада': 'Ваша посада Marketing',\n",
    "        'Вкажіть вашу спеціалізацію': 'Вкажіть вашу основну спеціалізацію'\n",
    "}"
   ]
  },
  {
   "cell_type": "code",
   "execution_count": 44,
   "metadata": {},
   "outputs": [
    {
     "data": {
      "text/plain": [
       "[]"
      ]
     },
     "execution_count": 44,
     "metadata": {},
     "output_type": "execute_result"
    }
   ],
   "source": [
    "get_new_columns(dec_2020_df,d_21_j_21_d_22_j_23_df,dec_2020_columns_map)"
   ]
  },
  {
   "cell_type": "code",
   "execution_count": 45,
   "metadata": {},
   "outputs": [
    {
     "data": {
      "text/plain": [
       "['Чи є у вас науковий ступінь? ',\n",
       " 'Чи використовуєте ви у своїй роботі мови програмування (одну чи декілька)?',\n",
       " 'Загальний стаж роботи в ІТ',\n",
       " 'Ставка у $$$ за годину, яку ви виставляєте клієнтам',\n",
       " 'Де ви зараз живете? ',\n",
       " 'Якщо ви працюєте в GameDev,  оберіть вашу спеціалізацію',\n",
       " 'Вкажіть вашу спеціалізацію Game Design',\n",
       " 'Вкажіть вашу спеціалізацію Sound',\n",
       " 'Ваша спеціалізація Support']"
      ]
     },
     "execution_count": 45,
     "metadata": {},
     "output_type": "execute_result"
    }
   ],
   "source": [
    "get_absent_columns(d_21_j_21_d_22_j_23_df,dec_2020_df,dec_2020_columns_map)"
   ]
  },
  {
   "cell_type": "code",
   "execution_count": 46,
   "metadata": {},
   "outputs": [
    {
     "data": {
      "text/plain": [
       "Index(['Timestamp', 'Ваша основна зайнятість в ІТ зараз...',\n",
       "       'В якій області ви зараз живете?', 'Де ви працюєте?', 'Ваша стать',\n",
       "       'Ваш вік', 'Яка у вас освіта?',\n",
       "       'Вкажіть ваш основний заклад вищої освіти (якщо вчилися в кількох – той, де провели найбільше часу)',\n",
       "       'Знання англійської мови', 'Спеціалізація', 'Ваш тайтл на цій посаді',\n",
       "       'Вкажіть вашу основну спеціалізацію', 'Основна мова програмування',\n",
       "       'Інші мови програмування', 'Фреймворки, бібліотеки та платформи',\n",
       "       'Платформи, для яких розробляєте на поточному місці роботи?',\n",
       "       'Вкажіть вашу спеціалізацію - QA',\n",
       "       'Оберіть вашу посаду Designer / Artist', 'Ваша посада Marketing',\n",
       "       'Оберіть вашу посаду HR', 'Ваша посада Management',\n",
       "       'Ваша посада Analyst', 'Ваша посада Data Science',\n",
       "       'Ваша посада DevOps, SRE', 'Ваша посада CTO, Director',\n",
       "       'В якій сфері проєкт, в якому ви зараз працюєте?',\n",
       "       'Основний напрям роботи компанії, в якій працюєте',\n",
       "       'Кількість спеціалістів у вашій компанії (в Україні/з України)',\n",
       "       'Загальний стаж роботи за нинішньою ІТ-спеціальністю',\n",
       "       'Стаж на поточному місці роботи',\n",
       "       'У скількох компаніях встигли попрацювати за час ІТ-кар'єри?',\n",
       "       'Зарплата / дохід у $$$ за місяць, лише ставка після сплати податків',\n",
       "       'Наскільки змінилась ваша зарплата за останні 12 місяців?',\n",
       "       'Чи отримуєте ви грошові бонуси до зарплати?',\n",
       "       'Вкажіть суму цього бонуса у  після податків',\n",
       "       'Чи є у вас науковий ступінь? ',\n",
       "       'Чи використовуєте ви у своїй роботі мови програмування (одну чи декілька)?',\n",
       "       'Загальний стаж роботи в ІТ',\n",
       "       'Ставка у $$$ за годину, яку ви виставляєте клієнтам',\n",
       "       'Де ви зараз живете? ',\n",
       "       'Якщо ви працюєте в GameDev,  оберіть вашу спеціалізацію',\n",
       "       'Вкажіть вашу спеціалізацію Game Design',\n",
       "       'Вкажіть вашу спеціалізацію Sound', 'Ваша спеціалізація Support'],\n",
       "      dtype='object')"
      ]
     },
     "execution_count": 46,
     "metadata": {},
     "output_type": "execute_result"
    }
   ],
   "source": [
    "dec_2020_df_renamed = dec_2020_df.rename(columns=dec_2020_columns_map)\n",
    "d_20_d_21_j_21_d_22_j_23_df = pd.concat([dec_2020_df_renamed, d_21_j_21_d_22_j_23_df],ignore_index=True) \n",
    "d_20_d_21_j_21_d_22_j_23_df.columns"
   ]
  },
  {
   "cell_type": "markdown",
   "metadata": {},
   "source": [
    "------"
   ]
  },
  {
   "cell_type": "code",
   "execution_count": 47,
   "metadata": {},
   "outputs": [],
   "source": [
    "d_20_d_21_j_21_d_22_j_23_df.to_csv('processed_data\\data.csv')"
   ]
  },
  {
   "cell_type": "markdown",
   "metadata": {},
   "source": [
    "----\n"
   ]
  }
 ],
 "metadata": {
  "kernelspec": {
   "display_name": "Python 3",
   "language": "python",
   "name": "python3"
  },
  "language_info": {
   "codemirror_mode": {
    "name": "ipython",
    "version": 3
   },
   "file_extension": ".py",
   "mimetype": "text/x-python",
   "name": "python",
   "nbconvert_exporter": "python",
   "pygments_lexer": "ipython3",
   "version": "3.8.19"
  }
 },
 "nbformat": 4,
 "nbformat_minor": 2
}
